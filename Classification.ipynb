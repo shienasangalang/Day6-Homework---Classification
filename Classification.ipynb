{
  "nbformat": 4,
  "nbformat_minor": 0,
  "metadata": {
    "colab": {
      "name": "Classification.ipynb",
      "provenance": [],
      "collapsed_sections": [],
      "toc_visible": true
    },
    "kernelspec": {
      "name": "python3",
      "display_name": "Python 3"
    }
  },
  "cells": [
    {
      "cell_type": "markdown",
      "metadata": {
        "id": "XYpbmp7qimBZ",
        "colab_type": "text"
      },
      "source": [
        "# **IMPORTING LIBRARIES AND DATASETS**\n"
      ]
    },
    {
      "cell_type": "code",
      "metadata": {
        "id": "ZvOMY-0qiqjY",
        "colab_type": "code",
        "colab": {}
      },
      "source": [
        "import numpy as np\n",
        "import pandas as pd\n",
        "import matplotlib.pyplot as plt\n",
        "import seaborn as sns\n",
        "\n",
        "sns.set(style='white', rc={'figure.figsize':(20,10)})\n",
        "\n",
        "from sklearn.linear_model import LogisticRegression # linear model for classification\n",
        "from sklearn.ensemble import RandomForestClassifier\n",
        "from sklearn.ensemble import GradientBoostingClassifier\n",
        "\n",
        "from sklearn.model_selection import train_test_split # split dataset\n",
        "from sklearn.metrics import confusion_matrix\n",
        "from sklearn.metrics import accuracy_score\n",
        "from sklearn.metrics import roc_auc_score\n",
        "#from sklearn.preprocessing import OneHotEncoder\n",
        "from sklearn.preprocessing import LabelEncoder"
      ],
      "execution_count": 0,
      "outputs": []
    },
    {
      "cell_type": "code",
      "metadata": {
        "id": "DNyqRav8r9_j",
        "colab_type": "code",
        "outputId": "f4b73fab-5b31-49dc-9da8-438e04e48e2a",
        "colab": {
          "base_uri": "https://localhost:8080/",
          "height": 756
        }
      },
      "source": [
        "# Read Data\n",
        "data=pd.read_csv(\"census.csv\", index_col=0)\n",
        "#data=pd.read_csv(\"census.csv\")        for jupyter notebook\n",
        "data"
      ],
      "execution_count": 74,
      "outputs": [
        {
          "output_type": "execute_result",
          "data": {
            "text/html": [
              "<div>\n",
              "<style scoped>\n",
              "    .dataframe tbody tr th:only-of-type {\n",
              "        vertical-align: middle;\n",
              "    }\n",
              "\n",
              "    .dataframe tbody tr th {\n",
              "        vertical-align: top;\n",
              "    }\n",
              "\n",
              "    .dataframe thead th {\n",
              "        text-align: right;\n",
              "    }\n",
              "</style>\n",
              "<table border=\"1\" class=\"dataframe\">\n",
              "  <thead>\n",
              "    <tr style=\"text-align: right;\">\n",
              "      <th></th>\n",
              "      <th>workclass</th>\n",
              "      <th>education_level</th>\n",
              "      <th>education-num</th>\n",
              "      <th>marital-status</th>\n",
              "      <th>occupation</th>\n",
              "      <th>relationship</th>\n",
              "      <th>race</th>\n",
              "      <th>sex</th>\n",
              "      <th>capital-gain</th>\n",
              "      <th>capital-loss</th>\n",
              "      <th>hours-per-week</th>\n",
              "      <th>native-country</th>\n",
              "      <th>income</th>\n",
              "    </tr>\n",
              "    <tr>\n",
              "      <th>age</th>\n",
              "      <th></th>\n",
              "      <th></th>\n",
              "      <th></th>\n",
              "      <th></th>\n",
              "      <th></th>\n",
              "      <th></th>\n",
              "      <th></th>\n",
              "      <th></th>\n",
              "      <th></th>\n",
              "      <th></th>\n",
              "      <th></th>\n",
              "      <th></th>\n",
              "      <th></th>\n",
              "    </tr>\n",
              "  </thead>\n",
              "  <tbody>\n",
              "    <tr>\n",
              "      <th>39</th>\n",
              "      <td>State-gov</td>\n",
              "      <td>Bachelors</td>\n",
              "      <td>13.0</td>\n",
              "      <td>Never-married</td>\n",
              "      <td>Adm-clerical</td>\n",
              "      <td>Not-in-family</td>\n",
              "      <td>White</td>\n",
              "      <td>Male</td>\n",
              "      <td>2174.0</td>\n",
              "      <td>0.0</td>\n",
              "      <td>40.0</td>\n",
              "      <td>United-States</td>\n",
              "      <td>&lt;=50K</td>\n",
              "    </tr>\n",
              "    <tr>\n",
              "      <th>50</th>\n",
              "      <td>Self-emp-not-inc</td>\n",
              "      <td>Bachelors</td>\n",
              "      <td>13.0</td>\n",
              "      <td>Married-civ-spouse</td>\n",
              "      <td>Exec-managerial</td>\n",
              "      <td>Husband</td>\n",
              "      <td>White</td>\n",
              "      <td>Male</td>\n",
              "      <td>0.0</td>\n",
              "      <td>0.0</td>\n",
              "      <td>13.0</td>\n",
              "      <td>United-States</td>\n",
              "      <td>&lt;=50K</td>\n",
              "    </tr>\n",
              "    <tr>\n",
              "      <th>38</th>\n",
              "      <td>Private</td>\n",
              "      <td>HS-grad</td>\n",
              "      <td>9.0</td>\n",
              "      <td>Divorced</td>\n",
              "      <td>Handlers-cleaners</td>\n",
              "      <td>Not-in-family</td>\n",
              "      <td>White</td>\n",
              "      <td>Male</td>\n",
              "      <td>0.0</td>\n",
              "      <td>0.0</td>\n",
              "      <td>40.0</td>\n",
              "      <td>United-States</td>\n",
              "      <td>&lt;=50K</td>\n",
              "    </tr>\n",
              "    <tr>\n",
              "      <th>53</th>\n",
              "      <td>Private</td>\n",
              "      <td>11th</td>\n",
              "      <td>7.0</td>\n",
              "      <td>Married-civ-spouse</td>\n",
              "      <td>Handlers-cleaners</td>\n",
              "      <td>Husband</td>\n",
              "      <td>Black</td>\n",
              "      <td>Male</td>\n",
              "      <td>0.0</td>\n",
              "      <td>0.0</td>\n",
              "      <td>40.0</td>\n",
              "      <td>United-States</td>\n",
              "      <td>&lt;=50K</td>\n",
              "    </tr>\n",
              "    <tr>\n",
              "      <th>28</th>\n",
              "      <td>Private</td>\n",
              "      <td>Bachelors</td>\n",
              "      <td>13.0</td>\n",
              "      <td>Married-civ-spouse</td>\n",
              "      <td>Prof-specialty</td>\n",
              "      <td>Wife</td>\n",
              "      <td>Black</td>\n",
              "      <td>Female</td>\n",
              "      <td>0.0</td>\n",
              "      <td>0.0</td>\n",
              "      <td>40.0</td>\n",
              "      <td>Cuba</td>\n",
              "      <td>&lt;=50K</td>\n",
              "    </tr>\n",
              "    <tr>\n",
              "      <th>...</th>\n",
              "      <td>...</td>\n",
              "      <td>...</td>\n",
              "      <td>...</td>\n",
              "      <td>...</td>\n",
              "      <td>...</td>\n",
              "      <td>...</td>\n",
              "      <td>...</td>\n",
              "      <td>...</td>\n",
              "      <td>...</td>\n",
              "      <td>...</td>\n",
              "      <td>...</td>\n",
              "      <td>...</td>\n",
              "      <td>...</td>\n",
              "    </tr>\n",
              "    <tr>\n",
              "      <th>33</th>\n",
              "      <td>Private</td>\n",
              "      <td>Bachelors</td>\n",
              "      <td>13.0</td>\n",
              "      <td>Never-married</td>\n",
              "      <td>Prof-specialty</td>\n",
              "      <td>Own-child</td>\n",
              "      <td>White</td>\n",
              "      <td>Male</td>\n",
              "      <td>0.0</td>\n",
              "      <td>0.0</td>\n",
              "      <td>40.0</td>\n",
              "      <td>United-States</td>\n",
              "      <td>&lt;=50K</td>\n",
              "    </tr>\n",
              "    <tr>\n",
              "      <th>39</th>\n",
              "      <td>Private</td>\n",
              "      <td>Bachelors</td>\n",
              "      <td>13.0</td>\n",
              "      <td>Divorced</td>\n",
              "      <td>Prof-specialty</td>\n",
              "      <td>Not-in-family</td>\n",
              "      <td>White</td>\n",
              "      <td>Female</td>\n",
              "      <td>0.0</td>\n",
              "      <td>0.0</td>\n",
              "      <td>36.0</td>\n",
              "      <td>United-States</td>\n",
              "      <td>&lt;=50K</td>\n",
              "    </tr>\n",
              "    <tr>\n",
              "      <th>38</th>\n",
              "      <td>Private</td>\n",
              "      <td>Bachelors</td>\n",
              "      <td>13.0</td>\n",
              "      <td>Married-civ-spouse</td>\n",
              "      <td>Prof-specialty</td>\n",
              "      <td>Husband</td>\n",
              "      <td>White</td>\n",
              "      <td>Male</td>\n",
              "      <td>0.0</td>\n",
              "      <td>0.0</td>\n",
              "      <td>50.0</td>\n",
              "      <td>United-States</td>\n",
              "      <td>&lt;=50K</td>\n",
              "    </tr>\n",
              "    <tr>\n",
              "      <th>44</th>\n",
              "      <td>Private</td>\n",
              "      <td>Bachelors</td>\n",
              "      <td>13.0</td>\n",
              "      <td>Divorced</td>\n",
              "      <td>Adm-clerical</td>\n",
              "      <td>Own-child</td>\n",
              "      <td>Asian-Pac-Islander</td>\n",
              "      <td>Male</td>\n",
              "      <td>5455.0</td>\n",
              "      <td>0.0</td>\n",
              "      <td>40.0</td>\n",
              "      <td>United-States</td>\n",
              "      <td>&lt;=50K</td>\n",
              "    </tr>\n",
              "    <tr>\n",
              "      <th>35</th>\n",
              "      <td>Self-emp-inc</td>\n",
              "      <td>Bachelors</td>\n",
              "      <td>13.0</td>\n",
              "      <td>Married-civ-spouse</td>\n",
              "      <td>Exec-managerial</td>\n",
              "      <td>Husband</td>\n",
              "      <td>White</td>\n",
              "      <td>Male</td>\n",
              "      <td>0.0</td>\n",
              "      <td>0.0</td>\n",
              "      <td>60.0</td>\n",
              "      <td>United-States</td>\n",
              "      <td>&gt;50K</td>\n",
              "    </tr>\n",
              "  </tbody>\n",
              "</table>\n",
              "<p>45222 rows × 13 columns</p>\n",
              "</div>"
            ],
            "text/plain": [
              "             workclass education_level  ...  native-country income\n",
              "age                                     ...                       \n",
              "39           State-gov       Bachelors  ...   United-States  <=50K\n",
              "50    Self-emp-not-inc       Bachelors  ...   United-States  <=50K\n",
              "38             Private         HS-grad  ...   United-States  <=50K\n",
              "53             Private            11th  ...   United-States  <=50K\n",
              "28             Private       Bachelors  ...            Cuba  <=50K\n",
              "..                 ...             ...  ...             ...    ...\n",
              "33             Private       Bachelors  ...   United-States  <=50K\n",
              "39             Private       Bachelors  ...   United-States  <=50K\n",
              "38             Private       Bachelors  ...   United-States  <=50K\n",
              "44             Private       Bachelors  ...   United-States  <=50K\n",
              "35        Self-emp-inc       Bachelors  ...   United-States   >50K\n",
              "\n",
              "[45222 rows x 13 columns]"
            ]
          },
          "metadata": {
            "tags": []
          },
          "execution_count": 74
        }
      ]
    },
    {
      "cell_type": "markdown",
      "metadata": {
        "id": "yInQxmbZsI5Z",
        "colab_type": "text"
      },
      "source": [
        "# **LOOK AT THE DATA**\n",
        "\n"
      ]
    },
    {
      "cell_type": "code",
      "metadata": {
        "id": "oypNN_5RsGLt",
        "colab_type": "code",
        "outputId": "5f20e4fe-c63b-4fd4-b946-c43650f3782f",
        "colab": {
          "base_uri": "https://localhost:8080/",
          "height": 414
        }
      },
      "source": [
        "data.head()"
      ],
      "execution_count": 75,
      "outputs": [
        {
          "output_type": "execute_result",
          "data": {
            "text/html": [
              "<div>\n",
              "<style scoped>\n",
              "    .dataframe tbody tr th:only-of-type {\n",
              "        vertical-align: middle;\n",
              "    }\n",
              "\n",
              "    .dataframe tbody tr th {\n",
              "        vertical-align: top;\n",
              "    }\n",
              "\n",
              "    .dataframe thead th {\n",
              "        text-align: right;\n",
              "    }\n",
              "</style>\n",
              "<table border=\"1\" class=\"dataframe\">\n",
              "  <thead>\n",
              "    <tr style=\"text-align: right;\">\n",
              "      <th></th>\n",
              "      <th>workclass</th>\n",
              "      <th>education_level</th>\n",
              "      <th>education-num</th>\n",
              "      <th>marital-status</th>\n",
              "      <th>occupation</th>\n",
              "      <th>relationship</th>\n",
              "      <th>race</th>\n",
              "      <th>sex</th>\n",
              "      <th>capital-gain</th>\n",
              "      <th>capital-loss</th>\n",
              "      <th>hours-per-week</th>\n",
              "      <th>native-country</th>\n",
              "      <th>income</th>\n",
              "    </tr>\n",
              "    <tr>\n",
              "      <th>age</th>\n",
              "      <th></th>\n",
              "      <th></th>\n",
              "      <th></th>\n",
              "      <th></th>\n",
              "      <th></th>\n",
              "      <th></th>\n",
              "      <th></th>\n",
              "      <th></th>\n",
              "      <th></th>\n",
              "      <th></th>\n",
              "      <th></th>\n",
              "      <th></th>\n",
              "      <th></th>\n",
              "    </tr>\n",
              "  </thead>\n",
              "  <tbody>\n",
              "    <tr>\n",
              "      <th>39</th>\n",
              "      <td>State-gov</td>\n",
              "      <td>Bachelors</td>\n",
              "      <td>13.0</td>\n",
              "      <td>Never-married</td>\n",
              "      <td>Adm-clerical</td>\n",
              "      <td>Not-in-family</td>\n",
              "      <td>White</td>\n",
              "      <td>Male</td>\n",
              "      <td>2174.0</td>\n",
              "      <td>0.0</td>\n",
              "      <td>40.0</td>\n",
              "      <td>United-States</td>\n",
              "      <td>&lt;=50K</td>\n",
              "    </tr>\n",
              "    <tr>\n",
              "      <th>50</th>\n",
              "      <td>Self-emp-not-inc</td>\n",
              "      <td>Bachelors</td>\n",
              "      <td>13.0</td>\n",
              "      <td>Married-civ-spouse</td>\n",
              "      <td>Exec-managerial</td>\n",
              "      <td>Husband</td>\n",
              "      <td>White</td>\n",
              "      <td>Male</td>\n",
              "      <td>0.0</td>\n",
              "      <td>0.0</td>\n",
              "      <td>13.0</td>\n",
              "      <td>United-States</td>\n",
              "      <td>&lt;=50K</td>\n",
              "    </tr>\n",
              "    <tr>\n",
              "      <th>38</th>\n",
              "      <td>Private</td>\n",
              "      <td>HS-grad</td>\n",
              "      <td>9.0</td>\n",
              "      <td>Divorced</td>\n",
              "      <td>Handlers-cleaners</td>\n",
              "      <td>Not-in-family</td>\n",
              "      <td>White</td>\n",
              "      <td>Male</td>\n",
              "      <td>0.0</td>\n",
              "      <td>0.0</td>\n",
              "      <td>40.0</td>\n",
              "      <td>United-States</td>\n",
              "      <td>&lt;=50K</td>\n",
              "    </tr>\n",
              "    <tr>\n",
              "      <th>53</th>\n",
              "      <td>Private</td>\n",
              "      <td>11th</td>\n",
              "      <td>7.0</td>\n",
              "      <td>Married-civ-spouse</td>\n",
              "      <td>Handlers-cleaners</td>\n",
              "      <td>Husband</td>\n",
              "      <td>Black</td>\n",
              "      <td>Male</td>\n",
              "      <td>0.0</td>\n",
              "      <td>0.0</td>\n",
              "      <td>40.0</td>\n",
              "      <td>United-States</td>\n",
              "      <td>&lt;=50K</td>\n",
              "    </tr>\n",
              "    <tr>\n",
              "      <th>28</th>\n",
              "      <td>Private</td>\n",
              "      <td>Bachelors</td>\n",
              "      <td>13.0</td>\n",
              "      <td>Married-civ-spouse</td>\n",
              "      <td>Prof-specialty</td>\n",
              "      <td>Wife</td>\n",
              "      <td>Black</td>\n",
              "      <td>Female</td>\n",
              "      <td>0.0</td>\n",
              "      <td>0.0</td>\n",
              "      <td>40.0</td>\n",
              "      <td>Cuba</td>\n",
              "      <td>&lt;=50K</td>\n",
              "    </tr>\n",
              "  </tbody>\n",
              "</table>\n",
              "</div>"
            ],
            "text/plain": [
              "             workclass education_level  ...  native-country income\n",
              "age                                     ...                       \n",
              "39           State-gov       Bachelors  ...   United-States  <=50K\n",
              "50    Self-emp-not-inc       Bachelors  ...   United-States  <=50K\n",
              "38             Private         HS-grad  ...   United-States  <=50K\n",
              "53             Private            11th  ...   United-States  <=50K\n",
              "28             Private       Bachelors  ...            Cuba  <=50K\n",
              "\n",
              "[5 rows x 13 columns]"
            ]
          },
          "metadata": {
            "tags": []
          },
          "execution_count": 75
        }
      ]
    },
    {
      "cell_type": "code",
      "metadata": {
        "id": "sv0iJ8c_sQKI",
        "colab_type": "code",
        "outputId": "49516d7f-e3ed-4458-af91-91686d632f17",
        "colab": {
          "base_uri": "https://localhost:8080/",
          "height": 34
        }
      },
      "source": [
        "data.shape"
      ],
      "execution_count": 76,
      "outputs": [
        {
          "output_type": "execute_result",
          "data": {
            "text/plain": [
              "(45222, 13)"
            ]
          },
          "metadata": {
            "tags": []
          },
          "execution_count": 76
        }
      ]
    },
    {
      "cell_type": "code",
      "metadata": {
        "id": "yuujxw4fsRrp",
        "colab_type": "code",
        "outputId": "98ce89c4-4cd6-44f8-a01c-bd2f1380e805",
        "colab": {
          "base_uri": "https://localhost:8080/",
          "height": 87
        }
      },
      "source": [
        "data.columns"
      ],
      "execution_count": 77,
      "outputs": [
        {
          "output_type": "execute_result",
          "data": {
            "text/plain": [
              "Index(['workclass', 'education_level', 'education-num', 'marital-status',\n",
              "       'occupation', 'relationship', 'race', 'sex', 'capital-gain',\n",
              "       'capital-loss', 'hours-per-week', 'native-country', 'income'],\n",
              "      dtype='object')"
            ]
          },
          "metadata": {
            "tags": []
          },
          "execution_count": 77
        }
      ]
    },
    {
      "cell_type": "code",
      "metadata": {
        "id": "JtB0G68OsUKN",
        "colab_type": "code",
        "outputId": "2c71e27c-8004-452b-8942-7d2374689518",
        "colab": {
          "base_uri": "https://localhost:8080/",
          "height": 336
        }
      },
      "source": [
        "data.info()"
      ],
      "execution_count": 78,
      "outputs": [
        {
          "output_type": "stream",
          "text": [
            "<class 'pandas.core.frame.DataFrame'>\n",
            "Int64Index: 45222 entries, 39 to 35\n",
            "Data columns (total 13 columns):\n",
            "workclass          45222 non-null object\n",
            "education_level    45222 non-null object\n",
            "education-num      45222 non-null float64\n",
            "marital-status     45222 non-null object\n",
            "occupation         45222 non-null object\n",
            "relationship       45222 non-null object\n",
            "race               45222 non-null object\n",
            "sex                45222 non-null object\n",
            "capital-gain       45222 non-null float64\n",
            "capital-loss       45222 non-null float64\n",
            "hours-per-week     45222 non-null float64\n",
            "native-country     45222 non-null object\n",
            "income             45222 non-null object\n",
            "dtypes: float64(4), object(9)\n",
            "memory usage: 4.8+ MB\n"
          ],
          "name": "stdout"
        }
      ]
    },
    {
      "cell_type": "code",
      "metadata": {
        "id": "ilTZ-ugMsVSe",
        "colab_type": "code",
        "outputId": "bf3fc6d2-149e-4130-be5a-6b28a1896e9d",
        "colab": {
          "base_uri": "https://localhost:8080/",
          "height": 287
        }
      },
      "source": [
        "data.describe()"
      ],
      "execution_count": 79,
      "outputs": [
        {
          "output_type": "execute_result",
          "data": {
            "text/html": [
              "<div>\n",
              "<style scoped>\n",
              "    .dataframe tbody tr th:only-of-type {\n",
              "        vertical-align: middle;\n",
              "    }\n",
              "\n",
              "    .dataframe tbody tr th {\n",
              "        vertical-align: top;\n",
              "    }\n",
              "\n",
              "    .dataframe thead th {\n",
              "        text-align: right;\n",
              "    }\n",
              "</style>\n",
              "<table border=\"1\" class=\"dataframe\">\n",
              "  <thead>\n",
              "    <tr style=\"text-align: right;\">\n",
              "      <th></th>\n",
              "      <th>education-num</th>\n",
              "      <th>capital-gain</th>\n",
              "      <th>capital-loss</th>\n",
              "      <th>hours-per-week</th>\n",
              "    </tr>\n",
              "  </thead>\n",
              "  <tbody>\n",
              "    <tr>\n",
              "      <th>count</th>\n",
              "      <td>45222.000000</td>\n",
              "      <td>45222.000000</td>\n",
              "      <td>45222.000000</td>\n",
              "      <td>45222.000000</td>\n",
              "    </tr>\n",
              "    <tr>\n",
              "      <th>mean</th>\n",
              "      <td>10.118460</td>\n",
              "      <td>1101.430344</td>\n",
              "      <td>88.595418</td>\n",
              "      <td>40.938017</td>\n",
              "    </tr>\n",
              "    <tr>\n",
              "      <th>std</th>\n",
              "      <td>2.552881</td>\n",
              "      <td>7506.430084</td>\n",
              "      <td>404.956092</td>\n",
              "      <td>12.007508</td>\n",
              "    </tr>\n",
              "    <tr>\n",
              "      <th>min</th>\n",
              "      <td>1.000000</td>\n",
              "      <td>0.000000</td>\n",
              "      <td>0.000000</td>\n",
              "      <td>1.000000</td>\n",
              "    </tr>\n",
              "    <tr>\n",
              "      <th>25%</th>\n",
              "      <td>9.000000</td>\n",
              "      <td>0.000000</td>\n",
              "      <td>0.000000</td>\n",
              "      <td>40.000000</td>\n",
              "    </tr>\n",
              "    <tr>\n",
              "      <th>50%</th>\n",
              "      <td>10.000000</td>\n",
              "      <td>0.000000</td>\n",
              "      <td>0.000000</td>\n",
              "      <td>40.000000</td>\n",
              "    </tr>\n",
              "    <tr>\n",
              "      <th>75%</th>\n",
              "      <td>13.000000</td>\n",
              "      <td>0.000000</td>\n",
              "      <td>0.000000</td>\n",
              "      <td>45.000000</td>\n",
              "    </tr>\n",
              "    <tr>\n",
              "      <th>max</th>\n",
              "      <td>16.000000</td>\n",
              "      <td>99999.000000</td>\n",
              "      <td>4356.000000</td>\n",
              "      <td>99.000000</td>\n",
              "    </tr>\n",
              "  </tbody>\n",
              "</table>\n",
              "</div>"
            ],
            "text/plain": [
              "       education-num  capital-gain  capital-loss  hours-per-week\n",
              "count   45222.000000  45222.000000  45222.000000    45222.000000\n",
              "mean       10.118460   1101.430344     88.595418       40.938017\n",
              "std         2.552881   7506.430084    404.956092       12.007508\n",
              "min         1.000000      0.000000      0.000000        1.000000\n",
              "25%         9.000000      0.000000      0.000000       40.000000\n",
              "50%        10.000000      0.000000      0.000000       40.000000\n",
              "75%        13.000000      0.000000      0.000000       45.000000\n",
              "max        16.000000  99999.000000   4356.000000       99.000000"
            ]
          },
          "metadata": {
            "tags": []
          },
          "execution_count": 79
        }
      ]
    },
    {
      "cell_type": "markdown",
      "metadata": {
        "id": "W3LNlHutsg37",
        "colab_type": "text"
      },
      "source": [
        "# **CLEANING OF DATA**"
      ]
    },
    {
      "cell_type": "markdown",
      "metadata": {
        "id": "yUTAysJpsz0z",
        "colab_type": "text"
      },
      "source": [
        "**Dummy Variables**\n",
        "\n",
        "\n"
      ]
    },
    {
      "cell_type": "code",
      "metadata": {
        "id": "L3B_J6QYs4qR",
        "colab_type": "code",
        "colab": {}
      },
      "source": [
        "# d_columns= ['workclass','education_level','marital-status','occupation','relationship','race','sex','native-country','income'] \n",
        "# d_data = data[d_columns]"
      ],
      "execution_count": 0,
      "outputs": []
    },
    {
      "cell_type": "code",
      "metadata": {
        "id": "ZjbkLxsWs-M0",
        "colab_type": "code",
        "colab": {}
      },
      "source": [
        "# dummies_data=pd.get_dummies(d_data)"
      ],
      "execution_count": 0,
      "outputs": []
    },
    {
      "cell_type": "code",
      "metadata": {
        "id": "cRaLzqTftBQq",
        "colab_type": "code",
        "colab": {}
      },
      "source": [
        "# dummies_data.head()"
      ],
      "execution_count": 0,
      "outputs": []
    },
    {
      "cell_type": "markdown",
      "metadata": {
        "id": "vhyOmM28tGlI",
        "colab_type": "text"
      },
      "source": [
        "**LabelEncoder**\n"
      ]
    },
    {
      "cell_type": "code",
      "metadata": {
        "id": "-vGkoNDVtDIm",
        "colab_type": "code",
        "colab": {}
      },
      "source": [
        "# Categorical boolean mask\n",
        "categorical_feature_mask = data.dtypes==object\n",
        "# filter categorical columns using mask and turn it into a list\n",
        "categorical_cols = data.columns[categorical_feature_mask].tolist()"
      ],
      "execution_count": 0,
      "outputs": []
    },
    {
      "cell_type": "code",
      "metadata": {
        "id": "TdoORFkOtLoZ",
        "colab_type": "code",
        "colab": {}
      },
      "source": [
        "le = LabelEncoder()"
      ],
      "execution_count": 0,
      "outputs": []
    },
    {
      "cell_type": "code",
      "metadata": {
        "id": "7X59Gd8etNjR",
        "colab_type": "code",
        "outputId": "37ce656d-fdbe-4395-eb0a-a9e404cc7c86",
        "colab": {
          "base_uri": "https://localhost:8080/",
          "height": 377
        }
      },
      "source": [
        "# apply le on categorical feature columns\n",
        "data[categorical_cols] = data[categorical_cols].apply(lambda col: le.fit_transform(col))\n",
        "data[categorical_cols].head(10)"
      ],
      "execution_count": 85,
      "outputs": [
        {
          "output_type": "execute_result",
          "data": {
            "text/html": [
              "<div>\n",
              "<style scoped>\n",
              "    .dataframe tbody tr th:only-of-type {\n",
              "        vertical-align: middle;\n",
              "    }\n",
              "\n",
              "    .dataframe tbody tr th {\n",
              "        vertical-align: top;\n",
              "    }\n",
              "\n",
              "    .dataframe thead th {\n",
              "        text-align: right;\n",
              "    }\n",
              "</style>\n",
              "<table border=\"1\" class=\"dataframe\">\n",
              "  <thead>\n",
              "    <tr style=\"text-align: right;\">\n",
              "      <th></th>\n",
              "      <th>workclass</th>\n",
              "      <th>education_level</th>\n",
              "      <th>marital-status</th>\n",
              "      <th>occupation</th>\n",
              "      <th>relationship</th>\n",
              "      <th>race</th>\n",
              "      <th>sex</th>\n",
              "      <th>native-country</th>\n",
              "      <th>income</th>\n",
              "    </tr>\n",
              "    <tr>\n",
              "      <th>age</th>\n",
              "      <th></th>\n",
              "      <th></th>\n",
              "      <th></th>\n",
              "      <th></th>\n",
              "      <th></th>\n",
              "      <th></th>\n",
              "      <th></th>\n",
              "      <th></th>\n",
              "      <th></th>\n",
              "    </tr>\n",
              "  </thead>\n",
              "  <tbody>\n",
              "    <tr>\n",
              "      <th>39</th>\n",
              "      <td>5</td>\n",
              "      <td>9</td>\n",
              "      <td>4</td>\n",
              "      <td>0</td>\n",
              "      <td>1</td>\n",
              "      <td>4</td>\n",
              "      <td>1</td>\n",
              "      <td>38</td>\n",
              "      <td>0</td>\n",
              "    </tr>\n",
              "    <tr>\n",
              "      <th>50</th>\n",
              "      <td>4</td>\n",
              "      <td>9</td>\n",
              "      <td>2</td>\n",
              "      <td>3</td>\n",
              "      <td>0</td>\n",
              "      <td>4</td>\n",
              "      <td>1</td>\n",
              "      <td>38</td>\n",
              "      <td>0</td>\n",
              "    </tr>\n",
              "    <tr>\n",
              "      <th>38</th>\n",
              "      <td>2</td>\n",
              "      <td>11</td>\n",
              "      <td>0</td>\n",
              "      <td>5</td>\n",
              "      <td>1</td>\n",
              "      <td>4</td>\n",
              "      <td>1</td>\n",
              "      <td>38</td>\n",
              "      <td>0</td>\n",
              "    </tr>\n",
              "    <tr>\n",
              "      <th>53</th>\n",
              "      <td>2</td>\n",
              "      <td>1</td>\n",
              "      <td>2</td>\n",
              "      <td>5</td>\n",
              "      <td>0</td>\n",
              "      <td>2</td>\n",
              "      <td>1</td>\n",
              "      <td>38</td>\n",
              "      <td>0</td>\n",
              "    </tr>\n",
              "    <tr>\n",
              "      <th>28</th>\n",
              "      <td>2</td>\n",
              "      <td>9</td>\n",
              "      <td>2</td>\n",
              "      <td>9</td>\n",
              "      <td>5</td>\n",
              "      <td>2</td>\n",
              "      <td>0</td>\n",
              "      <td>4</td>\n",
              "      <td>0</td>\n",
              "    </tr>\n",
              "    <tr>\n",
              "      <th>37</th>\n",
              "      <td>2</td>\n",
              "      <td>12</td>\n",
              "      <td>2</td>\n",
              "      <td>3</td>\n",
              "      <td>5</td>\n",
              "      <td>4</td>\n",
              "      <td>0</td>\n",
              "      <td>38</td>\n",
              "      <td>0</td>\n",
              "    </tr>\n",
              "    <tr>\n",
              "      <th>49</th>\n",
              "      <td>2</td>\n",
              "      <td>6</td>\n",
              "      <td>3</td>\n",
              "      <td>7</td>\n",
              "      <td>1</td>\n",
              "      <td>2</td>\n",
              "      <td>0</td>\n",
              "      <td>22</td>\n",
              "      <td>0</td>\n",
              "    </tr>\n",
              "    <tr>\n",
              "      <th>52</th>\n",
              "      <td>4</td>\n",
              "      <td>11</td>\n",
              "      <td>2</td>\n",
              "      <td>3</td>\n",
              "      <td>0</td>\n",
              "      <td>4</td>\n",
              "      <td>1</td>\n",
              "      <td>38</td>\n",
              "      <td>1</td>\n",
              "    </tr>\n",
              "    <tr>\n",
              "      <th>31</th>\n",
              "      <td>2</td>\n",
              "      <td>12</td>\n",
              "      <td>4</td>\n",
              "      <td>9</td>\n",
              "      <td>1</td>\n",
              "      <td>4</td>\n",
              "      <td>0</td>\n",
              "      <td>38</td>\n",
              "      <td>1</td>\n",
              "    </tr>\n",
              "    <tr>\n",
              "      <th>42</th>\n",
              "      <td>2</td>\n",
              "      <td>9</td>\n",
              "      <td>2</td>\n",
              "      <td>3</td>\n",
              "      <td>0</td>\n",
              "      <td>4</td>\n",
              "      <td>1</td>\n",
              "      <td>38</td>\n",
              "      <td>1</td>\n",
              "    </tr>\n",
              "  </tbody>\n",
              "</table>\n",
              "</div>"
            ],
            "text/plain": [
              "     workclass  education_level  marital-status  ...  sex  native-country  income\n",
              "age                                              ...                             \n",
              "39           5                9               4  ...    1              38       0\n",
              "50           4                9               2  ...    1              38       0\n",
              "38           2               11               0  ...    1              38       0\n",
              "53           2                1               2  ...    1              38       0\n",
              "28           2                9               2  ...    0               4       0\n",
              "37           2               12               2  ...    0              38       0\n",
              "49           2                6               3  ...    0              22       0\n",
              "52           4               11               2  ...    1              38       1\n",
              "31           2               12               4  ...    0              38       1\n",
              "42           2                9               2  ...    1              38       1\n",
              "\n",
              "[10 rows x 9 columns]"
            ]
          },
          "metadata": {
            "tags": []
          },
          "execution_count": 85
        }
      ]
    },
    {
      "cell_type": "code",
      "metadata": {
        "id": "rlakYgXrtPGJ",
        "colab_type": "code",
        "outputId": "5da4adc6-dbe6-4bfe-d1a9-73341b800fd3",
        "colab": {
          "base_uri": "https://localhost:8080/",
          "height": 34
        }
      },
      "source": [
        "data[categorical_cols].shape"
      ],
      "execution_count": 86,
      "outputs": [
        {
          "output_type": "execute_result",
          "data": {
            "text/plain": [
              "(45222, 9)"
            ]
          },
          "metadata": {
            "tags": []
          },
          "execution_count": 86
        }
      ]
    },
    {
      "cell_type": "code",
      "metadata": {
        "id": "WwJoJR8EtRkb",
        "colab_type": "code",
        "colab": {}
      },
      "source": [
        "f_column=['education-num','capital-gain','capital-loss','hours-per-week']"
      ],
      "execution_count": 0,
      "outputs": []
    },
    {
      "cell_type": "code",
      "metadata": {
        "id": "zbMWU9K2tTzu",
        "colab_type": "code",
        "outputId": "3382dc5a-1cbd-4e8b-db7c-ad12c77236a0",
        "colab": {
          "base_uri": "https://localhost:8080/",
          "height": 34
        }
      },
      "source": [
        "data[f_column].shape"
      ],
      "execution_count": 88,
      "outputs": [
        {
          "output_type": "execute_result",
          "data": {
            "text/plain": [
              "(45222, 4)"
            ]
          },
          "metadata": {
            "tags": []
          },
          "execution_count": 88
        }
      ]
    },
    {
      "cell_type": "code",
      "metadata": {
        "id": "iikul5nktWGn",
        "colab_type": "code",
        "colab": {}
      },
      "source": [
        "#Concatenating Data (from original Numeric and Transformed-Obeject Data)\n",
        "new_data=pd.concat([data[f_column],data[categorical_cols]],axis=1)"
      ],
      "execution_count": 0,
      "outputs": []
    },
    {
      "cell_type": "code",
      "metadata": {
        "id": "tqDVs_hptZWB",
        "colab_type": "code",
        "outputId": "fb1691fe-a089-4efb-a6a8-20e26eb75c18",
        "colab": {
          "base_uri": "https://localhost:8080/",
          "height": 261
        }
      },
      "source": [
        "new_data.head()"
      ],
      "execution_count": 90,
      "outputs": [
        {
          "output_type": "execute_result",
          "data": {
            "text/html": [
              "<div>\n",
              "<style scoped>\n",
              "    .dataframe tbody tr th:only-of-type {\n",
              "        vertical-align: middle;\n",
              "    }\n",
              "\n",
              "    .dataframe tbody tr th {\n",
              "        vertical-align: top;\n",
              "    }\n",
              "\n",
              "    .dataframe thead th {\n",
              "        text-align: right;\n",
              "    }\n",
              "</style>\n",
              "<table border=\"1\" class=\"dataframe\">\n",
              "  <thead>\n",
              "    <tr style=\"text-align: right;\">\n",
              "      <th></th>\n",
              "      <th>education-num</th>\n",
              "      <th>capital-gain</th>\n",
              "      <th>capital-loss</th>\n",
              "      <th>hours-per-week</th>\n",
              "      <th>workclass</th>\n",
              "      <th>education_level</th>\n",
              "      <th>marital-status</th>\n",
              "      <th>occupation</th>\n",
              "      <th>relationship</th>\n",
              "      <th>race</th>\n",
              "      <th>sex</th>\n",
              "      <th>native-country</th>\n",
              "      <th>income</th>\n",
              "    </tr>\n",
              "    <tr>\n",
              "      <th>age</th>\n",
              "      <th></th>\n",
              "      <th></th>\n",
              "      <th></th>\n",
              "      <th></th>\n",
              "      <th></th>\n",
              "      <th></th>\n",
              "      <th></th>\n",
              "      <th></th>\n",
              "      <th></th>\n",
              "      <th></th>\n",
              "      <th></th>\n",
              "      <th></th>\n",
              "      <th></th>\n",
              "    </tr>\n",
              "  </thead>\n",
              "  <tbody>\n",
              "    <tr>\n",
              "      <th>39</th>\n",
              "      <td>13.0</td>\n",
              "      <td>2174.0</td>\n",
              "      <td>0.0</td>\n",
              "      <td>40.0</td>\n",
              "      <td>5</td>\n",
              "      <td>9</td>\n",
              "      <td>4</td>\n",
              "      <td>0</td>\n",
              "      <td>1</td>\n",
              "      <td>4</td>\n",
              "      <td>1</td>\n",
              "      <td>38</td>\n",
              "      <td>0</td>\n",
              "    </tr>\n",
              "    <tr>\n",
              "      <th>50</th>\n",
              "      <td>13.0</td>\n",
              "      <td>0.0</td>\n",
              "      <td>0.0</td>\n",
              "      <td>13.0</td>\n",
              "      <td>4</td>\n",
              "      <td>9</td>\n",
              "      <td>2</td>\n",
              "      <td>3</td>\n",
              "      <td>0</td>\n",
              "      <td>4</td>\n",
              "      <td>1</td>\n",
              "      <td>38</td>\n",
              "      <td>0</td>\n",
              "    </tr>\n",
              "    <tr>\n",
              "      <th>38</th>\n",
              "      <td>9.0</td>\n",
              "      <td>0.0</td>\n",
              "      <td>0.0</td>\n",
              "      <td>40.0</td>\n",
              "      <td>2</td>\n",
              "      <td>11</td>\n",
              "      <td>0</td>\n",
              "      <td>5</td>\n",
              "      <td>1</td>\n",
              "      <td>4</td>\n",
              "      <td>1</td>\n",
              "      <td>38</td>\n",
              "      <td>0</td>\n",
              "    </tr>\n",
              "    <tr>\n",
              "      <th>53</th>\n",
              "      <td>7.0</td>\n",
              "      <td>0.0</td>\n",
              "      <td>0.0</td>\n",
              "      <td>40.0</td>\n",
              "      <td>2</td>\n",
              "      <td>1</td>\n",
              "      <td>2</td>\n",
              "      <td>5</td>\n",
              "      <td>0</td>\n",
              "      <td>2</td>\n",
              "      <td>1</td>\n",
              "      <td>38</td>\n",
              "      <td>0</td>\n",
              "    </tr>\n",
              "    <tr>\n",
              "      <th>28</th>\n",
              "      <td>13.0</td>\n",
              "      <td>0.0</td>\n",
              "      <td>0.0</td>\n",
              "      <td>40.0</td>\n",
              "      <td>2</td>\n",
              "      <td>9</td>\n",
              "      <td>2</td>\n",
              "      <td>9</td>\n",
              "      <td>5</td>\n",
              "      <td>2</td>\n",
              "      <td>0</td>\n",
              "      <td>4</td>\n",
              "      <td>0</td>\n",
              "    </tr>\n",
              "  </tbody>\n",
              "</table>\n",
              "</div>"
            ],
            "text/plain": [
              "     education-num  capital-gain  capital-loss  ...  sex  native-country  income\n",
              "age                                             ...                             \n",
              "39            13.0        2174.0           0.0  ...    1              38       0\n",
              "50            13.0           0.0           0.0  ...    1              38       0\n",
              "38             9.0           0.0           0.0  ...    1              38       0\n",
              "53             7.0           0.0           0.0  ...    1              38       0\n",
              "28            13.0           0.0           0.0  ...    0               4       0\n",
              "\n",
              "[5 rows x 13 columns]"
            ]
          },
          "metadata": {
            "tags": []
          },
          "execution_count": 90
        }
      ]
    },
    {
      "cell_type": "code",
      "metadata": {
        "id": "edNVJ71Jtle7",
        "colab_type": "code",
        "outputId": "92c2c564-a002-4cac-acb1-5e80411607b5",
        "colab": {
          "base_uri": "https://localhost:8080/",
          "height": 34
        }
      },
      "source": [
        "new_data.shape"
      ],
      "execution_count": 91,
      "outputs": [
        {
          "output_type": "execute_result",
          "data": {
            "text/plain": [
              "(45222, 13)"
            ]
          },
          "metadata": {
            "tags": []
          },
          "execution_count": 91
        }
      ]
    },
    {
      "cell_type": "markdown",
      "metadata": {
        "id": "m-B0gmwLtwux",
        "colab_type": "text"
      },
      "source": [
        "# **CORRELATION**\n"
      ]
    },
    {
      "cell_type": "code",
      "metadata": {
        "id": "tSUOpiZ7tng8",
        "colab_type": "code",
        "outputId": "598039dd-3235-4283-d10e-85fe64ec1d5d",
        "colab": {
          "base_uri": "https://localhost:8080/",
          "height": 474
        }
      },
      "source": [
        "correlation_coefficients = new_data.corr()\n",
        "correlation_coefficients"
      ],
      "execution_count": 92,
      "outputs": [
        {
          "output_type": "execute_result",
          "data": {
            "text/html": [
              "<div>\n",
              "<style scoped>\n",
              "    .dataframe tbody tr th:only-of-type {\n",
              "        vertical-align: middle;\n",
              "    }\n",
              "\n",
              "    .dataframe tbody tr th {\n",
              "        vertical-align: top;\n",
              "    }\n",
              "\n",
              "    .dataframe thead th {\n",
              "        text-align: right;\n",
              "    }\n",
              "</style>\n",
              "<table border=\"1\" class=\"dataframe\">\n",
              "  <thead>\n",
              "    <tr style=\"text-align: right;\">\n",
              "      <th></th>\n",
              "      <th>education-num</th>\n",
              "      <th>capital-gain</th>\n",
              "      <th>capital-loss</th>\n",
              "      <th>hours-per-week</th>\n",
              "      <th>workclass</th>\n",
              "      <th>education_level</th>\n",
              "      <th>marital-status</th>\n",
              "      <th>occupation</th>\n",
              "      <th>relationship</th>\n",
              "      <th>race</th>\n",
              "      <th>sex</th>\n",
              "      <th>native-country</th>\n",
              "      <th>income</th>\n",
              "    </tr>\n",
              "  </thead>\n",
              "  <tbody>\n",
              "    <tr>\n",
              "      <th>education-num</th>\n",
              "      <td>1.000000</td>\n",
              "      <td>0.126907</td>\n",
              "      <td>0.081711</td>\n",
              "      <td>0.146206</td>\n",
              "      <td>0.040779</td>\n",
              "      <td>0.347444</td>\n",
              "      <td>-0.064986</td>\n",
              "      <td>0.089686</td>\n",
              "      <td>-0.088431</td>\n",
              "      <td>0.031655</td>\n",
              "      <td>0.003417</td>\n",
              "      <td>0.092994</td>\n",
              "      <td>0.332800</td>\n",
              "    </tr>\n",
              "    <tr>\n",
              "      <th>capital-gain</th>\n",
              "      <td>0.126907</td>\n",
              "      <td>1.000000</td>\n",
              "      <td>-0.032102</td>\n",
              "      <td>0.083880</td>\n",
              "      <td>0.034543</td>\n",
              "      <td>0.029889</td>\n",
              "      <td>-0.042399</td>\n",
              "      <td>0.019435</td>\n",
              "      <td>-0.056818</td>\n",
              "      <td>0.014078</td>\n",
              "      <td>0.047444</td>\n",
              "      <td>0.007643</td>\n",
              "      <td>0.221034</td>\n",
              "    </tr>\n",
              "    <tr>\n",
              "      <th>capital-loss</th>\n",
              "      <td>0.081711</td>\n",
              "      <td>-0.032102</td>\n",
              "      <td>1.000000</td>\n",
              "      <td>0.054195</td>\n",
              "      <td>0.008233</td>\n",
              "      <td>0.016877</td>\n",
              "      <td>-0.034820</td>\n",
              "      <td>0.015267</td>\n",
              "      <td>-0.058425</td>\n",
              "      <td>0.020955</td>\n",
              "      <td>0.046457</td>\n",
              "      <td>0.005955</td>\n",
              "      <td>0.148687</td>\n",
              "    </tr>\n",
              "    <tr>\n",
              "      <th>hours-per-week</th>\n",
              "      <td>0.146206</td>\n",
              "      <td>0.083880</td>\n",
              "      <td>0.054195</td>\n",
              "      <td>1.000000</td>\n",
              "      <td>0.051366</td>\n",
              "      <td>0.060887</td>\n",
              "      <td>-0.183178</td>\n",
              "      <td>0.016160</td>\n",
              "      <td>-0.259194</td>\n",
              "      <td>0.044738</td>\n",
              "      <td>0.231425</td>\n",
              "      <td>0.007554</td>\n",
              "      <td>0.227199</td>\n",
              "    </tr>\n",
              "    <tr>\n",
              "      <th>workclass</th>\n",
              "      <td>0.040779</td>\n",
              "      <td>0.034543</td>\n",
              "      <td>0.008233</td>\n",
              "      <td>0.051366</td>\n",
              "      <td>1.000000</td>\n",
              "      <td>0.017846</td>\n",
              "      <td>-0.033221</td>\n",
              "      <td>0.017508</td>\n",
              "      <td>-0.065049</td>\n",
              "      <td>0.049765</td>\n",
              "      <td>0.069638</td>\n",
              "      <td>0.003889</td>\n",
              "      <td>0.015659</td>\n",
              "    </tr>\n",
              "    <tr>\n",
              "      <th>education_level</th>\n",
              "      <td>0.347444</td>\n",
              "      <td>0.029889</td>\n",
              "      <td>0.016877</td>\n",
              "      <td>0.060887</td>\n",
              "      <td>0.017846</td>\n",
              "      <td>1.000000</td>\n",
              "      <td>-0.041520</td>\n",
              "      <td>-0.033499</td>\n",
              "      <td>-0.013179</td>\n",
              "      <td>0.011457</td>\n",
              "      <td>-0.027569</td>\n",
              "      <td>0.077893</td>\n",
              "      <td>0.081196</td>\n",
              "    </tr>\n",
              "    <tr>\n",
              "      <th>marital-status</th>\n",
              "      <td>-0.064986</td>\n",
              "      <td>-0.042399</td>\n",
              "      <td>-0.034820</td>\n",
              "      <td>-0.183178</td>\n",
              "      <td>-0.033221</td>\n",
              "      <td>-0.041520</td>\n",
              "      <td>1.000000</td>\n",
              "      <td>0.016399</td>\n",
              "      <td>0.180436</td>\n",
              "      <td>-0.070302</td>\n",
              "      <td>-0.120008</td>\n",
              "      <td>-0.022721</td>\n",
              "      <td>-0.192711</td>\n",
              "    </tr>\n",
              "    <tr>\n",
              "      <th>occupation</th>\n",
              "      <td>0.089686</td>\n",
              "      <td>0.019435</td>\n",
              "      <td>0.015267</td>\n",
              "      <td>0.016160</td>\n",
              "      <td>0.017508</td>\n",
              "      <td>-0.033499</td>\n",
              "      <td>0.016399</td>\n",
              "      <td>1.000000</td>\n",
              "      <td>-0.051644</td>\n",
              "      <td>-0.000026</td>\n",
              "      <td>0.056625</td>\n",
              "      <td>-0.002848</td>\n",
              "      <td>0.049787</td>\n",
              "    </tr>\n",
              "    <tr>\n",
              "      <th>relationship</th>\n",
              "      <td>-0.088431</td>\n",
              "      <td>-0.056818</td>\n",
              "      <td>-0.058425</td>\n",
              "      <td>-0.259194</td>\n",
              "      <td>-0.065049</td>\n",
              "      <td>-0.013179</td>\n",
              "      <td>0.180436</td>\n",
              "      <td>-0.051644</td>\n",
              "      <td>1.000000</td>\n",
              "      <td>-0.118584</td>\n",
              "      <td>-0.582974</td>\n",
              "      <td>-0.007144</td>\n",
              "      <td>-0.253402</td>\n",
              "    </tr>\n",
              "    <tr>\n",
              "      <th>race</th>\n",
              "      <td>0.031655</td>\n",
              "      <td>0.014078</td>\n",
              "      <td>0.020955</td>\n",
              "      <td>0.044738</td>\n",
              "      <td>0.049765</td>\n",
              "      <td>0.011457</td>\n",
              "      <td>-0.070302</td>\n",
              "      <td>-0.000026</td>\n",
              "      <td>-0.118584</td>\n",
              "      <td>1.000000</td>\n",
              "      <td>0.088935</td>\n",
              "      <td>0.124342</td>\n",
              "      <td>0.070844</td>\n",
              "    </tr>\n",
              "    <tr>\n",
              "      <th>sex</th>\n",
              "      <td>0.003417</td>\n",
              "      <td>0.047444</td>\n",
              "      <td>0.046457</td>\n",
              "      <td>0.231425</td>\n",
              "      <td>0.069638</td>\n",
              "      <td>-0.027569</td>\n",
              "      <td>-0.120008</td>\n",
              "      <td>0.056625</td>\n",
              "      <td>-0.582974</td>\n",
              "      <td>0.088935</td>\n",
              "      <td>1.000000</td>\n",
              "      <td>-0.004170</td>\n",
              "      <td>0.215760</td>\n",
              "    </tr>\n",
              "    <tr>\n",
              "      <th>native-country</th>\n",
              "      <td>0.092994</td>\n",
              "      <td>0.007643</td>\n",
              "      <td>0.005955</td>\n",
              "      <td>0.007554</td>\n",
              "      <td>0.003889</td>\n",
              "      <td>0.077893</td>\n",
              "      <td>-0.022721</td>\n",
              "      <td>-0.002848</td>\n",
              "      <td>-0.007144</td>\n",
              "      <td>0.124342</td>\n",
              "      <td>-0.004170</td>\n",
              "      <td>1.000000</td>\n",
              "      <td>0.020103</td>\n",
              "    </tr>\n",
              "    <tr>\n",
              "      <th>income</th>\n",
              "      <td>0.332800</td>\n",
              "      <td>0.221034</td>\n",
              "      <td>0.148687</td>\n",
              "      <td>0.227199</td>\n",
              "      <td>0.015659</td>\n",
              "      <td>0.081196</td>\n",
              "      <td>-0.192711</td>\n",
              "      <td>0.049787</td>\n",
              "      <td>-0.253402</td>\n",
              "      <td>0.070844</td>\n",
              "      <td>0.215760</td>\n",
              "      <td>0.020103</td>\n",
              "      <td>1.000000</td>\n",
              "    </tr>\n",
              "  </tbody>\n",
              "</table>\n",
              "</div>"
            ],
            "text/plain": [
              "                 education-num  capital-gain  ...  native-country    income\n",
              "education-num         1.000000      0.126907  ...        0.092994  0.332800\n",
              "capital-gain          0.126907      1.000000  ...        0.007643  0.221034\n",
              "capital-loss          0.081711     -0.032102  ...        0.005955  0.148687\n",
              "hours-per-week        0.146206      0.083880  ...        0.007554  0.227199\n",
              "workclass             0.040779      0.034543  ...        0.003889  0.015659\n",
              "education_level       0.347444      0.029889  ...        0.077893  0.081196\n",
              "marital-status       -0.064986     -0.042399  ...       -0.022721 -0.192711\n",
              "occupation            0.089686      0.019435  ...       -0.002848  0.049787\n",
              "relationship         -0.088431     -0.056818  ...       -0.007144 -0.253402\n",
              "race                  0.031655      0.014078  ...        0.124342  0.070844\n",
              "sex                   0.003417      0.047444  ...       -0.004170  0.215760\n",
              "native-country        0.092994      0.007643  ...        1.000000  0.020103\n",
              "income                0.332800      0.221034  ...        0.020103  1.000000\n",
              "\n",
              "[13 rows x 13 columns]"
            ]
          },
          "metadata": {
            "tags": []
          },
          "execution_count": 92
        }
      ]
    },
    {
      "cell_type": "code",
      "metadata": {
        "id": "temSFsAbt2KV",
        "colab_type": "code",
        "outputId": "12444165-4f93-4e29-c8c3-be03ac8d101b",
        "colab": {
          "base_uri": "https://localhost:8080/",
          "height": 708
        }
      },
      "source": [
        "sns.heatmap(correlation_coefficients,annot=True,cmap=\"Blues\")"
      ],
      "execution_count": 93,
      "outputs": [
        {
          "output_type": "execute_result",
          "data": {
            "text/plain": [
              "<matplotlib.axes._subplots.AxesSubplot at 0x7f118293f6d8>"
            ]
          },
          "metadata": {
            "tags": []
          },
          "execution_count": 93
        },
        {
          "output_type": "display_data",
          "data": {
            "image/png": "[encoded data removed]",
            "text/plain": [
              "<Figure size 1440x720 with 2 Axes>"
            ]
          },
          "metadata": {
            "tags": []
          }
        }
      ]
    },
    {
      "cell_type": "code",
      "metadata": {
        "id": "emDUHHRrt6OS",
        "colab_type": "code",
        "outputId": "afa0a0a7-e45c-4f79-cb9a-a7441735db14",
        "colab": {
          "base_uri": "https://localhost:8080/",
          "height": 614
        }
      },
      "source": [
        "# List of strongly correlated features to churn\n",
        "new_data.corr().sort_values('income', ascending=False)['income'].plot(kind='barh')\n",
        "plt.gca().invert_yaxis()"
      ],
      "execution_count": 94,
      "outputs": [
        {
          "output_type": "display_data",
          "data": {
            "image/png": "[encoded data removed]",
            "text/plain": [
              "<Figure size 1440x720 with 1 Axes>"
            ]
          },
          "metadata": {
            "tags": []
          }
        }
      ]
    },
    {
      "cell_type": "markdown",
      "metadata": {
        "id": "TCB7xO1zuAGg",
        "colab_type": "text"
      },
      "source": [
        "# **FEATURE SELECTION AND TRAIN-TEST SPLIT**\n"
      ]
    },
    {
      "cell_type": "code",
      "metadata": {
        "id": "LJ5zEYGDt8-1",
        "colab_type": "code",
        "colab": {}
      },
      "source": [
        "from sklearn.datasets import load_digits\n",
        "from sklearn.feature_selection import SelectKBest, chi2"
      ],
      "execution_count": 0,
      "outputs": []
    },
    {
      "cell_type": "code",
      "metadata": {
        "id": "uxNnsDZyuMYm",
        "colab_type": "code",
        "colab": {}
      },
      "source": [
        "# write list of features we want to use\n",
        "features = ['workclass','education_level','marital-status','occupation','relationship','race','sex','native-country','education-num','capital-gain','capital-loss','hours-per-week'] \n",
        "\n",
        "# Set X\n",
        "X= new_data[features]"
      ],
      "execution_count": 0,
      "outputs": []
    },
    {
      "cell_type": "code",
      "metadata": {
        "id": "TIIkSlk_uVvk",
        "colab_type": "code",
        "colab": {}
      },
      "source": [
        "# Set y\n",
        "y = new_data[\"income\"]"
      ],
      "execution_count": 0,
      "outputs": []
    },
    {
      "cell_type": "code",
      "metadata": {
        "id": "Zw2aCY1iuXmb",
        "colab_type": "code",
        "outputId": "8746c02d-d0a4-4a75-9948-ba821beec058",
        "colab": {
          "base_uri": "https://localhost:8080/",
          "height": 34
        }
      },
      "source": [
        "X.shape, y.shape"
      ],
      "execution_count": 98,
      "outputs": [
        {
          "output_type": "execute_result",
          "data": {
            "text/plain": [
              "((45222, 12), (45222,))"
            ]
          },
          "metadata": {
            "tags": []
          },
          "execution_count": 98
        }
      ]
    },
    {
      "cell_type": "code",
      "metadata": {
        "id": "zf27bFfAubFd",
        "colab_type": "code",
        "outputId": "54371a1d-48ea-4ef4-8759-87359d57d828",
        "colab": {
          "base_uri": "https://localhost:8080/",
          "height": 34
        }
      },
      "source": [
        "# kBest feature selection\n",
        "new_X =  SelectKBest(chi2,k=12).fit_transform(X,y)\n",
        "X.shape"
      ],
      "execution_count": 99,
      "outputs": [
        {
          "output_type": "execute_result",
          "data": {
            "text/plain": [
              "(45222, 12)"
            ]
          },
          "metadata": {
            "tags": []
          },
          "execution_count": 99
        }
      ]
    },
    {
      "cell_type": "code",
      "metadata": {
        "id": "3EzD7BUNujdx",
        "colab_type": "code",
        "outputId": "a6898113-d895-4574-930b-bed86e3b2061",
        "colab": {
          "base_uri": "https://localhost:8080/",
          "height": 34
        }
      },
      "source": [
        "new_X.shape"
      ],
      "execution_count": 100,
      "outputs": [
        {
          "output_type": "execute_result",
          "data": {
            "text/plain": [
              "(45222, 12)"
            ]
          },
          "metadata": {
            "tags": []
          },
          "execution_count": 100
        }
      ]
    },
    {
      "cell_type": "code",
      "metadata": {
        "id": "oV78XvscuoFZ",
        "colab_type": "code",
        "colab": {}
      },
      "source": [
        "# Train-test split\n",
        "X_train, X_test, y_train, y_test = train_test_split(new_X, y, test_size = 0.4, random_state = 42)"
      ],
      "execution_count": 0,
      "outputs": []
    },
    {
      "cell_type": "markdown",
      "metadata": {
        "id": "KoFKdQUFu3Hr",
        "colab_type": "text"
      },
      "source": [
        "# **PREDICTIVE ANALYTICS**\n"
      ]
    },
    {
      "cell_type": "markdown",
      "metadata": {
        "id": "JU_EuQ_gvJJZ",
        "colab_type": "text"
      },
      "source": [
        "#**LOGISTIC REGRESSION**\n"
      ]
    },
    {
      "cell_type": "code",
      "metadata": {
        "id": "IdT-t57eux1o",
        "colab_type": "code",
        "outputId": "4b0a60fb-3de9-4e08-bf16-dfc4842968e4",
        "colab": {
          "base_uri": "https://localhost:8080/",
          "height": 72
        }
      },
      "source": [
        "# initialize model\n",
        "log_reg = LogisticRegression()\n",
        "\n",
        "# fit model\n",
        "log_reg.fit(X_train, y_train)\n",
        "\n",
        "# predictions\n",
        "y_pred = log_reg.predict(X_test)"
      ],
      "execution_count": 102,
      "outputs": [
        {
          "output_type": "stream",
          "text": [
            "/usr/local/lib/python3.6/dist-packages/sklearn/linear_model/logistic.py:432: FutureWarning: Default solver will be changed to 'lbfgs' in 0.22. Specify a solver to silence this warning.\n",
            "  FutureWarning)\n"
          ],
          "name": "stderr"
        }
      ]
    },
    {
      "cell_type": "code",
      "metadata": {
        "id": "e80hZe9XvRPp",
        "colab_type": "code",
        "outputId": "3eb13f54-e306-43c3-b0c0-afdbe339be19",
        "colab": {
          "base_uri": "https://localhost:8080/",
          "height": 87
        }
      },
      "source": [
        "# feature importance\n",
        "log_reg.coef_"
      ],
      "execution_count": 103,
      "outputs": [
        {
          "output_type": "execute_result",
          "data": {
            "text/plain": [
              "array([[-9.71480321e-02,  1.76790464e-02, -3.13936554e-01,\n",
              "        -5.99921709e-03, -2.02676892e-01,  8.60160377e-02,\n",
              "         8.39652861e-01, -8.09358169e-03,  3.16997683e-01,\n",
              "         3.27411542e-04,  6.78687434e-04,  2.32354326e-02]])"
            ]
          },
          "metadata": {
            "tags": []
          },
          "execution_count": 103
        }
      ]
    },
    {
      "cell_type": "markdown",
      "metadata": {
        "id": "PmEamYKGvW7v",
        "colab_type": "text"
      },
      "source": [
        "# **METRICS**\n",
        "\n"
      ]
    },
    {
      "cell_type": "markdown",
      "metadata": {
        "id": "36kPYFnfvnCz",
        "colab_type": "text"
      },
      "source": [
        "**Accuracy**\n"
      ]
    },
    {
      "cell_type": "code",
      "metadata": {
        "id": "cg2RNa-tvU9U",
        "colab_type": "code",
        "outputId": "5e38dc73-2c94-49ef-bf93-34d74a016d91",
        "colab": {
          "base_uri": "https://localhost:8080/",
          "height": 34
        }
      },
      "source": [
        "log_acc = accuracy_score(y_test, y_pred)\n",
        "log_acc"
      ],
      "execution_count": 104,
      "outputs": [
        {
          "output_type": "execute_result",
          "data": {
            "text/plain": [
              "0.8214937254685167"
            ]
          },
          "metadata": {
            "tags": []
          },
          "execution_count": 104
        }
      ]
    },
    {
      "cell_type": "markdown",
      "metadata": {
        "id": "98e4Aa2VwcGN",
        "colab_type": "text"
      },
      "source": [
        "**Confusion Matrix**\n"
      ]
    },
    {
      "cell_type": "code",
      "metadata": {
        "id": "_KKNDabyv4Im",
        "colab_type": "code",
        "outputId": "821466b3-7e06-4288-b0ca-5982122c2842",
        "colab": {
          "base_uri": "https://localhost:8080/",
          "height": 52
        }
      },
      "source": [
        "# confusion matrix\n",
        "log_cf = confusion_matrix(y_test, y_pred)\n",
        "log_cf"
      ],
      "execution_count": 105,
      "outputs": [
        {
          "output_type": "execute_result",
          "data": {
            "text/plain": [
              "array([[12895,   741],\n",
              "       [ 2488,  1965]])"
            ]
          },
          "metadata": {
            "tags": []
          },
          "execution_count": 105
        }
      ]
    },
    {
      "cell_type": "code",
      "metadata": {
        "id": "q95hPG7zwkpC",
        "colab_type": "code",
        "outputId": "2b5601ca-041c-4707-e72b-fa72e4e90d2d",
        "colab": {
          "base_uri": "https://localhost:8080/",
          "height": 632
        }
      },
      "source": [
        "# heatmap of confusion matrix \n",
        "sns.heatmap(log_cf, annot = True)"
      ],
      "execution_count": 106,
      "outputs": [
        {
          "output_type": "execute_result",
          "data": {
            "text/plain": [
              "<matplotlib.axes._subplots.AxesSubplot at 0x7f11798dd630>"
            ]
          },
          "metadata": {
            "tags": []
          },
          "execution_count": 106
        },
        {
          "output_type": "display_data",
          "data": {
            "image/png": "[encoded data removed]",
            "text/plain": [
              "<Figure size 1440x720 with 2 Axes>"
            ]
          },
          "metadata": {
            "tags": []
          }
        }
      ]
    },
    {
      "cell_type": "markdown",
      "metadata": {
        "id": "8VfgJXhKws9x",
        "colab_type": "text"
      },
      "source": [
        "**Precision**\n"
      ]
    },
    {
      "cell_type": "code",
      "metadata": {
        "id": "Oo6-b4HIw4L0",
        "colab_type": "code",
        "colab": {}
      },
      "source": [
        "from sklearn.metrics import precision_score"
      ],
      "execution_count": 0,
      "outputs": []
    },
    {
      "cell_type": "code",
      "metadata": {
        "id": "9EAnmPEGwm1z",
        "colab_type": "code",
        "outputId": "00a684bb-e33a-4c37-b0e5-b88639084526",
        "colab": {
          "base_uri": "https://localhost:8080/",
          "height": 34
        }
      },
      "source": [
        "log_ps = precision_score(y_test, y_pred)\n",
        "log_ps"
      ],
      "execution_count": 108,
      "outputs": [
        {
          "output_type": "execute_result",
          "data": {
            "text/plain": [
              "0.7261640798226164"
            ]
          },
          "metadata": {
            "tags": []
          },
          "execution_count": 108
        }
      ]
    },
    {
      "cell_type": "markdown",
      "metadata": {
        "id": "cWOpmWK4xa13",
        "colab_type": "text"
      },
      "source": [
        "**Recall**\n"
      ]
    },
    {
      "cell_type": "code",
      "metadata": {
        "id": "JphdDMYhw6Cr",
        "colab_type": "code",
        "colab": {}
      },
      "source": [
        "from sklearn.metrics import recall_score"
      ],
      "execution_count": 0,
      "outputs": []
    },
    {
      "cell_type": "code",
      "metadata": {
        "id": "FmL4cXR0xhi-",
        "colab_type": "code",
        "outputId": "5dafe8c4-19fc-49cb-fd3a-95410d91c26a",
        "colab": {
          "base_uri": "https://localhost:8080/",
          "height": 34
        }
      },
      "source": [
        "log_rs = recall_score(y_test, y_pred)\n",
        "log_rs"
      ],
      "execution_count": 110,
      "outputs": [
        {
          "output_type": "execute_result",
          "data": {
            "text/plain": [
              "0.4412755445766899"
            ]
          },
          "metadata": {
            "tags": []
          },
          "execution_count": 110
        }
      ]
    },
    {
      "cell_type": "markdown",
      "metadata": {
        "id": "rLSfWqhsDB3C",
        "colab_type": "text"
      },
      "source": [
        "**ROC Curve**\n"
      ]
    },
    {
      "cell_type": "code",
      "metadata": {
        "id": "gz7NnC-vxks6",
        "colab_type": "code",
        "outputId": "96dbd6c3-167d-4c73-c5ad-f8a588764a9e",
        "colab": {
          "base_uri": "https://localhost:8080/",
          "height": 614
        }
      },
      "source": [
        "from sklearn.metrics import roc_auc_score\n",
        "from sklearn.metrics import roc_curve\n",
        "y_pred_proba = log_reg.predict_proba(X_test)[::,1]\n",
        "fpr, tpr, _ = roc_curve (y_test, y_pred_proba)\n",
        "auc = roc_auc_score(y_test, y_pred_proba)\n",
        "plt.plot(fpr, tpr, label = \"data 1 , auc =\"+str(auc))\n",
        "plt.legend(loc= 4)\n",
        "plt.show()"
      ],
      "execution_count": 111,
      "outputs": [
        {
          "output_type": "display_data",
          "data": {
            "image/png": "[encoded data removed]",
            "text/plain": [
              "<Figure size 1440x720 with 1 Axes>"
            ]
          },
          "metadata": {
            "tags": []
          }
        }
      ]
    },
    {
      "cell_type": "markdown",
      "metadata": {
        "id": "aY79ILTdFjFT",
        "colab_type": "text"
      },
      "source": [
        "# **XG BOOST**"
      ]
    },
    {
      "cell_type": "code",
      "metadata": {
        "id": "ku9PLPqCDQjd",
        "colab_type": "code",
        "colab": {}
      },
      "source": [
        "from xgboost import XGBClassifier"
      ],
      "execution_count": 0,
      "outputs": []
    },
    {
      "cell_type": "code",
      "metadata": {
        "id": "Og2prNrRIGF5",
        "colab_type": "code",
        "colab": {}
      },
      "source": [
        "xgb = XGBClassifier()\n",
        "xgb.fit(X_train, y_train)\n",
        "y_pred = xgb.predict(X_test)"
      ],
      "execution_count": 0,
      "outputs": []
    },
    {
      "cell_type": "code",
      "metadata": {
        "id": "4kJrPZKFIvrm",
        "colab_type": "code",
        "outputId": "a7b398ea-ff2a-42be-daaa-30ff9ef4141d",
        "colab": {
          "base_uri": "https://localhost:8080/",
          "height": 34
        }
      },
      "source": [
        "acc_xgb = accuracy_score(y_test, y_pred)\n",
        "acc_xgb"
      ],
      "execution_count": 114,
      "outputs": [
        {
          "output_type": "execute_result",
          "data": {
            "text/plain": [
              "0.8604676875449168"
            ]
          },
          "metadata": {
            "tags": []
          },
          "execution_count": 114
        }
      ]
    },
    {
      "cell_type": "code",
      "metadata": {
        "id": "z47YY7TFIyX1",
        "colab_type": "code",
        "outputId": "c4802c55-4e76-4fa4-d631-54cf199f1c09",
        "colab": {
          "base_uri": "https://localhost:8080/",
          "height": 52
        }
      },
      "source": [
        "cf_xgb = confusion_matrix(y_test, y_pred)\n",
        "cf_xgb"
      ],
      "execution_count": 115,
      "outputs": [
        {
          "output_type": "execute_result",
          "data": {
            "text/plain": [
              "array([[12974,   662],\n",
              "       [ 1862,  2591]])"
            ]
          },
          "metadata": {
            "tags": []
          },
          "execution_count": 115
        }
      ]
    },
    {
      "cell_type": "code",
      "metadata": {
        "id": "KxuDM6bPJb2w",
        "colab_type": "code",
        "outputId": "09ecda22-cb92-477a-bfd6-2fe52a645a58",
        "colab": {
          "base_uri": "https://localhost:8080/",
          "height": 632
        }
      },
      "source": [
        "# heatmap of confusion matrix \n",
        "sns.heatmap(cf, annot = True)"
      ],
      "execution_count": 116,
      "outputs": [
        {
          "output_type": "execute_result",
          "data": {
            "text/plain": [
              "<matplotlib.axes._subplots.AxesSubplot at 0x7f117998fb38>"
            ]
          },
          "metadata": {
            "tags": []
          },
          "execution_count": 116
        },
        {
          "output_type": "display_data",
          "data": {
            "image/png": "[encoded data removed]",
            "text/plain": [
              "<Figure size 1440x720 with 2 Axes>"
            ]
          },
          "metadata": {
            "tags": []
          }
        }
      ]
    },
    {
      "cell_type": "code",
      "metadata": {
        "id": "Ww1w-aTMJgaM",
        "colab_type": "code",
        "outputId": "3ba657c0-6adb-4514-a0c6-ac43060a28f1",
        "colab": {
          "base_uri": "https://localhost:8080/",
          "height": 34
        }
      },
      "source": [
        "xgb_ps = precision_score(y_test, y_pred)\n",
        "xgb_ps"
      ],
      "execution_count": 117,
      "outputs": [
        {
          "output_type": "execute_result",
          "data": {
            "text/plain": [
              "0.7964955425760836"
            ]
          },
          "metadata": {
            "tags": []
          },
          "execution_count": 117
        }
      ]
    },
    {
      "cell_type": "code",
      "metadata": {
        "id": "5EYTCiWHJlwI",
        "colab_type": "code",
        "outputId": "80457023-ee95-49b0-b96c-6739c73d4557",
        "colab": {
          "base_uri": "https://localhost:8080/",
          "height": 34
        }
      },
      "source": [
        "xgb_rs = recall_score(y_test, y_pred)\n",
        "xgb_rs"
      ],
      "execution_count": 118,
      "outputs": [
        {
          "output_type": "execute_result",
          "data": {
            "text/plain": [
              "0.5818549292611722"
            ]
          },
          "metadata": {
            "tags": []
          },
          "execution_count": 118
        }
      ]
    },
    {
      "cell_type": "code",
      "metadata": {
        "id": "jbWXF1giJplh",
        "colab_type": "code",
        "outputId": "c5fa72b2-cdf9-4d1a-c781-7dc5bf21884a",
        "colab": {
          "base_uri": "https://localhost:8080/",
          "height": 614
        }
      },
      "source": [
        "y_pred_proba = xgb.predict_proba(X_test)[::,1]\n",
        "fpr, tpr, _ = roc_curve (y_test, y_pred_proba)\n",
        "auc = roc_auc_score(y_test, y_pred_proba)\n",
        "plt.plot(fpr, tpr, label = \"data 1 , auc =\"+str(auc))\n",
        "plt.legend(loc= 4)\n",
        "plt.show()"
      ],
      "execution_count": 119,
      "outputs": [
        {
          "output_type": "display_data",
          "data": {
            "image/png": "[encoded data removed]",
            "text/plain": [
              "<Figure size 1440x720 with 1 Axes>"
            ]
          },
          "metadata": {
            "tags": []
          }
        }
      ]
    },
    {
      "cell_type": "code",
      "metadata": {
        "id": "1vFAq5MwZUzB",
        "colab_type": "code",
        "outputId": "1751488c-7195-4236-d626-3fd7f8c03a60",
        "colab": {
          "base_uri": "https://localhost:8080/",
          "height": 54
        }
      },
      "source": [
        "from sklearn.metrics import classification_report\n",
        "classification_report(y_test, y_pred, labels=None, target_names=None, sample_weight=None, digits=2, output_dict=False)"
      ],
      "execution_count": 120,
      "outputs": [
        {
          "output_type": "execute_result",
          "data": {
            "text/plain": [
              "'              precision    recall  f1-score   support\\n\\n           0       0.87      0.95      0.91     13636\\n           1       0.80      0.58      0.67      4453\\n\\n    accuracy                           0.86     18089\\n   macro avg       0.84      0.77      0.79     18089\\nweighted avg       0.86      0.86      0.85     18089\\n'"
            ]
          },
          "metadata": {
            "tags": []
          },
          "execution_count": 120
        }
      ]
    },
    {
      "cell_type": "code",
      "metadata": {
        "id": "9tpzfq9JJw2s",
        "colab_type": "code",
        "outputId": "e2c9e4f1-0f45-4e17-f7ca-ff6a3d21f396",
        "colab": {
          "base_uri": "https://localhost:8080/",
          "height": 632
        }
      },
      "source": [
        "#DISTRIBUTION OF INCOME\n",
        "new_data.income.value_counts().plot(kind=\"barh\", color=\"blue\")"
      ],
      "execution_count": 121,
      "outputs": [
        {
          "output_type": "execute_result",
          "data": {
            "text/plain": [
              "<matplotlib.axes._subplots.AxesSubplot at 0x7f1179756048>"
            ]
          },
          "metadata": {
            "tags": []
          },
          "execution_count": 121
        },
        {
          "output_type": "display_data",
          "data": {
            "image/png": "[encoded data removed]",
            "text/plain": [
              "<Figure size 1440x720 with 1 Axes>"
            ]
          },
          "metadata": {
            "tags": []
          }
        }
      ]
    },
    {
      "cell_type": "markdown",
      "metadata": {
        "id": "hZY_vn6AOkfH",
        "colab_type": "text"
      },
      "source": [
        "# **DEALING WITH IMBALANCED DATA**"
      ]
    },
    {
      "cell_type": "markdown",
      "metadata": {
        "id": "0pVCBakcOttk",
        "colab_type": "text"
      },
      "source": [
        "**Generate Synthetic Samples**"
      ]
    },
    {
      "cell_type": "markdown",
      "metadata": {
        "id": "Joyde__1WJAS",
        "colab_type": "text"
      },
      "source": [
        "SMOTEing is used to increase accuracy\n",
        "  - If accuracy of SMOTEd data is almost equal with the original, no need to SMOTE\n",
        "  - If accuracy of SMOTEd data is lower than the original, no need to SMOTE\n",
        "  - If accuracy of SMOTEd data is higher than the original, use the SMOTEd data"
      ]
    },
    {
      "cell_type": "code",
      "metadata": {
        "id": "H1Ufue5_NQt_",
        "colab_type": "code",
        "colab": {}
      },
      "source": [
        "from imblearn.over_sampling import SMOTE\n",
        "sm = SMOTE(random_state = 42)\n",
        "X_res, y_res = sm.fit_resample (new_X, y)"
      ],
      "execution_count": 0,
      "outputs": []
    },
    {
      "cell_type": "code",
      "metadata": {
        "id": "S3IyiSKhWapL",
        "colab_type": "code",
        "outputId": "447fc8d8-6b28-4ccd-d9a7-f522c6d5b4df",
        "colab": {
          "base_uri": "https://localhost:8080/",
          "height": 52
        }
      },
      "source": [
        "from collections import Counter\n",
        "print(Counter(y).keys())\n",
        "print(Counter(y).values())"
      ],
      "execution_count": 123,
      "outputs": [
        {
          "output_type": "stream",
          "text": [
            "dict_keys([0, 1])\n",
            "dict_values([34014, 11208])\n"
          ],
          "name": "stdout"
        }
      ]
    },
    {
      "cell_type": "code",
      "metadata": {
        "id": "kq4foVUiVgGN",
        "colab_type": "code",
        "outputId": "326ac031-5028-4312-b4a3-e29c1ab8eb43",
        "colab": {
          "base_uri": "https://localhost:8080/",
          "height": 52
        }
      },
      "source": [
        "from collections import Counter\n",
        "print(Counter(y_res).keys())\n",
        "print(Counter(y_res).values())"
      ],
      "execution_count": 124,
      "outputs": [
        {
          "output_type": "stream",
          "text": [
            "dict_keys([0, 1])\n",
            "dict_values([34014, 34014])\n"
          ],
          "name": "stdout"
        }
      ]
    },
    {
      "cell_type": "code",
      "metadata": {
        "id": "vb3AuPhqRYs0",
        "colab_type": "code",
        "colab": {}
      },
      "source": [
        "# Train-test split\n",
        "X_train, X_test, y_train, y_test = train_test_split(X_res, y_res, test_size = 0.4, random_state = 42)"
      ],
      "execution_count": 0,
      "outputs": []
    },
    {
      "cell_type": "code",
      "metadata": {
        "id": "9lVRFE2AXzyD",
        "colab_type": "code",
        "colab": {
          "base_uri": "https://localhost:8080/",
          "height": 72
        },
        "outputId": "e9630382-ad50-4cb5-c7b1-3f1a3123d79d"
      },
      "source": [
        "# initialize model\n",
        "log_reg = LogisticRegression()\n",
        "# fit model\n",
        "log_reg.fit(X_train, y_train)\n",
        "# predictions\n",
        "y_pred = log_reg.predict(X_test)"
      ],
      "execution_count": 126,
      "outputs": [
        {
          "output_type": "stream",
          "text": [
            "/usr/local/lib/python3.6/dist-packages/sklearn/linear_model/logistic.py:432: FutureWarning: Default solver will be changed to 'lbfgs' in 0.22. Specify a solver to silence this warning.\n",
            "  FutureWarning)\n"
          ],
          "name": "stderr"
        }
      ]
    },
    {
      "cell_type": "code",
      "metadata": {
        "id": "SmmeCzMoX87l",
        "colab_type": "code",
        "colab": {
          "base_uri": "https://localhost:8080/",
          "height": 34
        },
        "outputId": "41632f62-abec-448f-c5ea-dec47c63f939"
      },
      "source": [
        "s_acc_log = accuracy_score(y_test, y_pred)\n",
        "s_acc_log"
      ],
      "execution_count": 127,
      "outputs": [
        {
          "output_type": "execute_result",
          "data": {
            "text/plain": [
              "0.735043363222108"
            ]
          },
          "metadata": {
            "tags": []
          },
          "execution_count": 127
        }
      ]
    },
    {
      "cell_type": "code",
      "metadata": {
        "id": "UHaN6rlDRjsA",
        "colab_type": "code",
        "colab": {}
      },
      "source": [
        "xgb = XGBClassifier()\n",
        "xgb.fit(X_train, y_train)\n",
        "y_pred = xgb.predict(X_test)"
      ],
      "execution_count": 0,
      "outputs": []
    },
    {
      "cell_type": "code",
      "metadata": {
        "id": "39cbFjGUXTA_",
        "colab_type": "code",
        "outputId": "f0e70f24-331a-4583-84ae-72f9a8d7de49",
        "colab": {
          "base_uri": "https://localhost:8080/",
          "height": 34
        }
      },
      "source": [
        "s_acc_xgb = accuracy_score(y_test, y_pred)\n",
        "s_acc_xgb"
      ],
      "execution_count": 129,
      "outputs": [
        {
          "output_type": "execute_result",
          "data": {
            "text/plain": [
              "0.8507276201675731"
            ]
          },
          "metadata": {
            "tags": []
          },
          "execution_count": 129
        }
      ]
    },
    {
      "cell_type": "markdown",
      "metadata": {
        "id": "aI3351WWYcy4",
        "colab_type": "text"
      },
      "source": [
        "#**MODEL ACCURACY COMPARISON** "
      ]
    },
    {
      "cell_type": "code",
      "metadata": {
        "id": "71lQhisWW4LR",
        "colab_type": "code",
        "colab": {
          "base_uri": "https://localhost:8080/",
          "height": 167
        },
        "outputId": "2907c711-f56d-4be2-af02-b3fb8a0a76d1"
      },
      "source": [
        "ACC = pd.DataFrame((list(zip([\"Logistic\",\"XGBoost\",\"Logistic_SMOTEd\", \"XGBoost_SMOTEd\"], [log_acc,acc_xgb,s_acc_log,s_acc_xgb]))), columns = ['Models', 'Accuracy'])\n",
        "ACC"
      ],
      "execution_count": 130,
      "outputs": [
        {
          "output_type": "execute_result",
          "data": {
            "text/html": [
              "<div>\n",
              "<style scoped>\n",
              "    .dataframe tbody tr th:only-of-type {\n",
              "        vertical-align: middle;\n",
              "    }\n",
              "\n",
              "    .dataframe tbody tr th {\n",
              "        vertical-align: top;\n",
              "    }\n",
              "\n",
              "    .dataframe thead th {\n",
              "        text-align: right;\n",
              "    }\n",
              "</style>\n",
              "<table border=\"1\" class=\"dataframe\">\n",
              "  <thead>\n",
              "    <tr style=\"text-align: right;\">\n",
              "      <th></th>\n",
              "      <th>Models</th>\n",
              "      <th>Accuracy</th>\n",
              "    </tr>\n",
              "  </thead>\n",
              "  <tbody>\n",
              "    <tr>\n",
              "      <th>0</th>\n",
              "      <td>Logistic</td>\n",
              "      <td>0.821494</td>\n",
              "    </tr>\n",
              "    <tr>\n",
              "      <th>1</th>\n",
              "      <td>XGBoost</td>\n",
              "      <td>0.860468</td>\n",
              "    </tr>\n",
              "    <tr>\n",
              "      <th>2</th>\n",
              "      <td>Logistic_SMOTEd</td>\n",
              "      <td>0.735043</td>\n",
              "    </tr>\n",
              "    <tr>\n",
              "      <th>3</th>\n",
              "      <td>XGBoost_SMOTEd</td>\n",
              "      <td>0.850728</td>\n",
              "    </tr>\n",
              "  </tbody>\n",
              "</table>\n",
              "</div>"
            ],
            "text/plain": [
              "            Models  Accuracy\n",
              "0         Logistic  0.821494\n",
              "1          XGBoost  0.860468\n",
              "2  Logistic_SMOTEd  0.735043\n",
              "3   XGBoost_SMOTEd  0.850728"
            ]
          },
          "metadata": {
            "tags": []
          },
          "execution_count": 130
        }
      ]
    },
    {
      "cell_type": "markdown",
      "metadata": {
        "id": "7RU20YfEWaGr",
        "colab_type": "text"
      },
      "source": [
        "*Since the model accuracy of the SMOTEd data is lower than the accuracy of model of the original data, it is not advisable to use SMOTEing. Instead, just use the original data. :)*"
      ]
    },
    {
      "cell_type": "markdown",
      "metadata": {
        "id": "pQduD_nNaQyf",
        "colab_type": "text"
      },
      "source": [
        "*The accuracy comparison above shows that the XGB model of the original data has the highest accuracy among other models used.*"
      ]
    }
  ]
}